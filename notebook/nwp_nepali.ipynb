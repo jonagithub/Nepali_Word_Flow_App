{
  "nbformat": 4,
  "nbformat_minor": 0,
  "metadata": {
    "colab": {
      "provenance": [],
      "gpuType": "T4"
    },
    "kernelspec": {
      "name": "python3",
      "display_name": "Python 3"
    },
    "language_info": {
      "name": "python"
    },
    "accelerator": "GPU"
  },
  "cells": [
    {
      "cell_type": "code",
      "execution_count": 1,
      "metadata": {
        "id": "PuBZpp23DkPp"
      },
      "outputs": [],
      "source": [
        "import tensorflow as tf\n",
        "from tensorflow.keras.preprocessing.text import Tokenizer\n",
        "from tensorflow.keras.layers import Embedding, LSTM, Dense\n",
        "from tensorflow.keras.models import Sequential\n",
        "from tensorflow.keras.utils import to_categorical\n",
        "from tensorflow.keras.optimizers import Adam\n",
        "from tensorflow.keras.preprocessing.sequence import pad_sequences\n",
        "import pickle\n",
        "import numpy as np\n",
        "import os"
      ]
    },
    {
      "cell_type": "code",
      "source": [
        "file = open(\"01.txt\", \"r\", encoding = \"utf8\")\n",
        "\n",
        "# store file in list\n",
        "lines = []\n",
        "for i in file:\n",
        "    lines.append(i)\n",
        "\n",
        "# Convert list to string\n",
        "data = \"\"\n",
        "for i in lines:\n",
        "  data = ' '. join(lines)\n",
        "\n",
        "#replace unnecessary stuff with space\n",
        "data = data.replace('\\n', '').replace('\\r', '').replace('\\ufeff', '').replace('“','').replace('”','')  #new line, carriage return, unicode character --> replace by space\n",
        "\n",
        "#remove unnecessary spaces\n",
        "data = data.split()\n",
        "data = ' '.join(data)\n",
        "data[:500]"
      ],
      "metadata": {
        "colab": {
          "base_uri": "https://localhost:8080/",
          "height": 88
        },
        "id": "T5L_G4SDDq4M",
        "outputId": "3f6c3734-f0e6-4d74-ff59-4da3e707abb0"
      },
      "execution_count": 2,
      "outputs": [
        {
          "output_type": "execute_result",
          "data": {
            "text/plain": [
              "'\"राष्ट्रिय लीग जावलाखेलको कठिन जित\"\"दुई महिना बितेको छैन आर्मीले सामसुङ जावलाखेललाई सफल पोखरा कपको पहिलो खेलमै ले पराजित गरेको उही पोखरा रंगशालामा शनिबार जावलाखेलले मीठो बदला लिएको छ \"\" दुई महिना बितेको छैन आर्मीले सामसुङ जावलाखेललाई सफल पोखरा कपको पहिलो खेलमै ले पराजित गरेको उही पोखरा रंगशालामा शनिबार जावलाखेलले मीठो बदला लिएको छ जावलाखेलले आर्मीलाई ले हराएर रेडबुल ए डिभिजन राष्ट्रिय लिगमा राम्रो सुरुआत गर्यो केन्याली फरवार्ड जेरार्ड मुकोन्जाले औं मिनेटमा गरेको गोल पोखरा कपको उपविजेता आर्मीविरु'"
            ],
            "application/vnd.google.colaboratory.intrinsic+json": {
              "type": "string"
            }
          },
          "metadata": {},
          "execution_count": 2
        }
      ]
    },
    {
      "cell_type": "code",
      "source": [
        "tokenizer = Tokenizer()\n",
        "tokenizer.fit_on_texts([data])\n",
        "\n",
        "# saving the tokenizer for predict function\n",
        "pickle.dump(tokenizer, open('token.pkl', 'wb'))\n",
        "\n",
        "sequence_data = tokenizer.texts_to_sequences([data])[0]\n",
        "sequence_data[:15]"
      ],
      "metadata": {
        "colab": {
          "base_uri": "https://localhost:8080/"
        },
        "id": "xhDOuUxjDyOD",
        "outputId": "af92687d-1535-478c-d0f4-1755c9a2f4af"
      },
      "execution_count": 3,
      "outputs": [
        {
          "output_type": "execute_result",
          "data": {
            "text/plain": [
              "[10, 1535, 228, 356, 25, 22, 656, 2536, 75, 314, 185, 396, 124, 193, 516]"
            ]
          },
          "metadata": {},
          "execution_count": 3
        }
      ]
    },
    {
      "cell_type": "code",
      "source": [
        "len(sequence_data)\n",
        "vocab_size = len(tokenizer.word_index) + 1\n",
        "print(vocab_size)\n",
        "sequences = []\n",
        "# when i=3 slicing will be from 0:4 where 3 words are appended\n",
        "for i in range(3, len(sequence_data)):\n",
        "    words = sequence_data[i-3:i+1]\n",
        "    sequences.append(words)\n",
        "\n",
        "print(\"The Length of sequences are: \", len(sequences))\n",
        "sequences = np.array(sequences)\n",
        "sequences[:10]\n",
        "X = []\n",
        "y = []\n",
        "\n",
        "for i in sequences:\n",
        "    X.append(i[0:3])\n",
        "    y.append(i[3])\n",
        "\n",
        "X = np.array(X)\n",
        "y = np.array(y)\n",
        "print(\"Data: \", X[:10])\n",
        "print(\"Response: \", y[:10])\n",
        "y = to_categorical(y, num_classes=vocab_size)\n",
        "y[:5]"
      ],
      "metadata": {
        "colab": {
          "base_uri": "https://localhost:8080/"
        },
        "id": "-qBTKiONDz5c",
        "outputId": "26d70a35-79b1-4723-cc5b-6b7faf4d236a"
      },
      "execution_count": 4,
      "outputs": [
        {
          "output_type": "stream",
          "name": "stdout",
          "text": [
            "7962\n",
            "The Length of sequences are:  42550\n",
            "Data:  [[  10 1535  228]\n",
            " [1535  228  356]\n",
            " [ 228  356   25]\n",
            " [ 356   25   22]\n",
            " [  25   22  656]\n",
            " [  22  656 2536]\n",
            " [ 656 2536   75]\n",
            " [2536   75  314]\n",
            " [  75  314  185]\n",
            " [ 314  185  396]]\n",
            "Response:  [ 356   25   22  656 2536   75  314  185  396  124]\n"
          ]
        },
        {
          "output_type": "execute_result",
          "data": {
            "text/plain": [
              "array([[0., 0., 0., ..., 0., 0., 0.],\n",
              "       [0., 0., 0., ..., 0., 0., 0.],\n",
              "       [0., 0., 0., ..., 0., 0., 0.],\n",
              "       [0., 0., 0., ..., 0., 0., 0.],\n",
              "       [0., 0., 0., ..., 0., 0., 0.]], dtype=float32)"
            ]
          },
          "metadata": {},
          "execution_count": 4
        }
      ]
    },
    {
      "cell_type": "code",
      "source": [
        "model = Sequential()\n",
        "model.add(Embedding(vocab_size, 10, input_length=3))\n",
        "model.add(LSTM(256, return_sequences=True))\n",
        "model.add(LSTM(256))\n",
        "model.add(Dense(vocab_size, activation=\"softmax\"))\n",
        "model.summary()"
      ],
      "metadata": {
        "colab": {
          "base_uri": "https://localhost:8080/"
        },
        "id": "vsEFffuPEASW",
        "outputId": "17949c40-1ceb-4dd8-cbf3-9ad085ffa635"
      },
      "execution_count": 5,
      "outputs": [
        {
          "output_type": "stream",
          "name": "stdout",
          "text": [
            "Model: \"sequential\"\n",
            "_________________________________________________________________\n",
            " Layer (type)                Output Shape              Param #   \n",
            "=================================================================\n",
            " embedding (Embedding)       (None, 3, 10)             79620     \n",
            "                                                                 \n",
            " lstm (LSTM)                 (None, 3, 256)            273408    \n",
            "                                                                 \n",
            " lstm_1 (LSTM)               (None, 256)               525312    \n",
            "                                                                 \n",
            " dense (Dense)               (None, 7962)              2046234   \n",
            "                                                                 \n",
            "=================================================================\n",
            "Total params: 2924574 (11.16 MB)\n",
            "Trainable params: 2924574 (11.16 MB)\n",
            "Non-trainable params: 0 (0.00 Byte)\n",
            "_________________________________________________________________\n"
          ]
        }
      ]
    },
    {
      "cell_type": "code",
      "source": [
        "from tensorflow import keras\n",
        "from tensorflow.keras.utils import plot_model\n",
        "\n",
        "plot_model(model, to_file='plot.png', show_layer_names=True)\n"
      ],
      "metadata": {
        "colab": {
          "base_uri": "https://localhost:8080/",
          "height": 466
        },
        "id": "GPYybLn5ECF5",
        "outputId": "8c748abc-a7fb-415a-f2aa-e4e78005c7b5"
      },
      "execution_count": 6,
      "outputs": [
        {
          "output_type": "execute_result",
          "data": {
            "image/png": "[encoded data removed]",
            "text/plain": [
              "<IPython.core.display.Image object>"
            ]
          },
          "metadata": {},
          "execution_count": 6
        }
      ]
    },
    {
      "cell_type": "code",
      "source": [
        "from tensorflow.keras.callbacks import ModelCheckpoint\n",
        "\n",
        "checkpoint = ModelCheckpoint(\"next_words.h5\", monitor='loss', verbose=1, save_best_only=True)\n",
        "model.compile(loss=\"categorical_crossentropy\", optimizer=Adam(learning_rate=0.001),metrics=['accuracy'])\n",
        "model.fit(X, y, epochs=50, batch_size=64, callbacks=[checkpoint])\n"
      ],
      "metadata": {
        "colab": {
          "base_uri": "https://localhost:8080/"
        },
        "id": "dsMR1DlvEEKn",
        "outputId": "28a0198b-ab30-459b-8931-9d5534fc3d4b"
      },
      "execution_count": 7,
      "outputs": [
        {
          "output_type": "stream",
          "name": "stdout",
          "text": [
            "Epoch 1/50\n",
            "665/665 [==============================] - ETA: 0s - loss: 7.9936 - accuracy: 0.0177\n",
            "Epoch 1: loss improved from inf to 7.99360, saving model to next_words.h5\n",
            "665/665 [==============================] - 18s 17ms/step - loss: 7.9936 - accuracy: 0.0177\n",
            "Epoch 2/50\n",
            "  1/665 [..............................] - ETA: 9s - loss: 7.7016 - accuracy: 0.0156"
          ]
        },
        {
          "output_type": "stream",
          "name": "stderr",
          "text": [
            "/usr/local/lib/python3.10/dist-packages/keras/src/engine/training.py:3103: UserWarning: You are saving your model as an HDF5 file via `model.save()`. This file format is considered legacy. We recommend using instead the native Keras format, e.g. `model.save('my_model.keras')`.\n",
            "  saving_api.save_model(\n"
          ]
        },
        {
          "output_type": "stream",
          "name": "stdout",
          "text": [
            "665/665 [==============================] - ETA: 0s - loss: 7.5697 - accuracy: 0.0242\n",
            "Epoch 2: loss improved from 7.99360 to 7.56966, saving model to next_words.h5\n",
            "665/665 [==============================] - 7s 10ms/step - loss: 7.5697 - accuracy: 0.0242\n",
            "Epoch 3/50\n",
            "665/665 [==============================] - ETA: 0s - loss: 7.3624 - accuracy: 0.0304\n",
            "Epoch 3: loss improved from 7.56966 to 7.36238, saving model to next_words.h5\n",
            "665/665 [==============================] - 7s 10ms/step - loss: 7.3624 - accuracy: 0.0304\n",
            "Epoch 4/50\n",
            "662/665 [============================>.] - ETA: 0s - loss: 7.1068 - accuracy: 0.0366\n",
            "Epoch 4: loss improved from 7.36238 to 7.10539, saving model to next_words.h5\n",
            "665/665 [==============================] - 6s 9ms/step - loss: 7.1054 - accuracy: 0.0366\n",
            "Epoch 5/50\n",
            "665/665 [==============================] - ETA: 0s - loss: 6.7999 - accuracy: 0.0446\n",
            "Epoch 5: loss improved from 7.10539 to 6.79985, saving model to next_words.h5\n",
            "665/665 [==============================] - 7s 10ms/step - loss: 6.7999 - accuracy: 0.0446\n",
            "Epoch 6/50\n",
            "665/665 [==============================] - ETA: 0s - loss: 6.4358 - accuracy: 0.0551\n",
            "Epoch 6: loss improved from 6.79985 to 6.43582, saving model to next_words.h5\n",
            "665/665 [==============================] - 6s 9ms/step - loss: 6.4358 - accuracy: 0.0551\n",
            "Epoch 7/50\n",
            "665/665 [==============================] - ETA: 0s - loss: 6.0248 - accuracy: 0.0713\n",
            "Epoch 7: loss improved from 6.43582 to 6.02483, saving model to next_words.h5\n",
            "665/665 [==============================] - 7s 10ms/step - loss: 6.0248 - accuracy: 0.0713\n",
            "Epoch 8/50\n",
            "664/665 [============================>.] - ETA: 0s - loss: 5.6046 - accuracy: 0.0873\n",
            "Epoch 8: loss improved from 6.02483 to 5.60480, saving model to next_words.h5\n",
            "665/665 [==============================] - 6s 9ms/step - loss: 5.6048 - accuracy: 0.0872\n",
            "Epoch 9/50\n",
            "665/665 [==============================] - ETA: 0s - loss: 5.1914 - accuracy: 0.1079\n",
            "Epoch 9: loss improved from 5.60480 to 5.19141, saving model to next_words.h5\n",
            "665/665 [==============================] - 7s 10ms/step - loss: 5.1914 - accuracy: 0.1079\n",
            "Epoch 10/50\n",
            "661/665 [============================>.] - ETA: 0s - loss: 4.7951 - accuracy: 0.1366\n",
            "Epoch 10: loss improved from 5.19141 to 4.79587, saving model to next_words.h5\n",
            "665/665 [==============================] - 6s 9ms/step - loss: 4.7959 - accuracy: 0.1365\n",
            "Epoch 11/50\n",
            "663/665 [============================>.] - ETA: 0s - loss: 4.4342 - accuracy: 0.1699\n",
            "Epoch 11: loss improved from 4.79587 to 4.43458, saving model to next_words.h5\n",
            "665/665 [==============================] - 7s 10ms/step - loss: 4.4346 - accuracy: 0.1699\n",
            "Epoch 12/50\n",
            "662/665 [============================>.] - ETA: 0s - loss: 4.0979 - accuracy: 0.2091\n",
            "Epoch 12: loss improved from 4.43458 to 4.09801, saving model to next_words.h5\n",
            "665/665 [==============================] - 6s 9ms/step - loss: 4.0980 - accuracy: 0.2091\n",
            "Epoch 13/50\n",
            "663/665 [============================>.] - ETA: 0s - loss: 3.7967 - accuracy: 0.2536\n",
            "Epoch 13: loss improved from 4.09801 to 3.79652, saving model to next_words.h5\n",
            "665/665 [==============================] - 7s 10ms/step - loss: 3.7965 - accuracy: 0.2535\n",
            "Epoch 14/50\n",
            "663/665 [============================>.] - ETA: 0s - loss: 3.5135 - accuracy: 0.3035\n",
            "Epoch 14: loss improved from 3.79652 to 3.51298, saving model to next_words.h5\n",
            "665/665 [==============================] - 6s 9ms/step - loss: 3.5130 - accuracy: 0.3036\n",
            "Epoch 15/50\n",
            "665/665 [==============================] - ETA: 0s - loss: 3.2583 - accuracy: 0.3475\n",
            "Epoch 15: loss improved from 3.51298 to 3.25833, saving model to next_words.h5\n",
            "665/665 [==============================] - 7s 10ms/step - loss: 3.2583 - accuracy: 0.3475\n",
            "Epoch 16/50\n",
            "660/665 [============================>.] - ETA: 0s - loss: 3.0239 - accuracy: 0.3902\n",
            "Epoch 16: loss improved from 3.25833 to 3.02482, saving model to next_words.h5\n",
            "665/665 [==============================] - 7s 10ms/step - loss: 3.0248 - accuracy: 0.3899\n",
            "Epoch 17/50\n",
            "664/665 [============================>.] - ETA: 0s - loss: 2.8142 - accuracy: 0.4282\n",
            "Epoch 17: loss improved from 3.02482 to 2.81430, saving model to next_words.h5\n",
            "665/665 [==============================] - 7s 10ms/step - loss: 2.8143 - accuracy: 0.4282\n",
            "Epoch 18/50\n",
            "661/665 [============================>.] - ETA: 0s - loss: 2.6206 - accuracy: 0.4661\n",
            "Epoch 18: loss improved from 2.81430 to 2.62109, saving model to next_words.h5\n",
            "665/665 [==============================] - 6s 9ms/step - loss: 2.6211 - accuracy: 0.4660\n",
            "Epoch 19/50\n",
            "661/665 [============================>.] - ETA: 0s - loss: 2.4438 - accuracy: 0.4977\n",
            "Epoch 19: loss improved from 2.62109 to 2.44523, saving model to next_words.h5\n",
            "665/665 [==============================] - 7s 10ms/step - loss: 2.4452 - accuracy: 0.4974\n",
            "Epoch 20/50\n",
            "660/665 [============================>.] - ETA: 0s - loss: 2.2824 - accuracy: 0.5300\n",
            "Epoch 20: loss improved from 2.44523 to 2.28387, saving model to next_words.h5\n",
            "665/665 [==============================] - 6s 9ms/step - loss: 2.2839 - accuracy: 0.5298\n",
            "Epoch 21/50\n",
            "663/665 [============================>.] - ETA: 0s - loss: 2.1339 - accuracy: 0.5577\n",
            "Epoch 21: loss improved from 2.28387 to 2.13425, saving model to next_words.h5\n",
            "665/665 [==============================] - 7s 10ms/step - loss: 2.1343 - accuracy: 0.5577\n",
            "Epoch 22/50\n",
            "662/665 [============================>.] - ETA: 0s - loss: 1.9923 - accuracy: 0.5861\n",
            "Epoch 22: loss improved from 2.13425 to 1.99340, saving model to next_words.h5\n",
            "665/665 [==============================] - 6s 9ms/step - loss: 1.9934 - accuracy: 0.5859\n",
            "Epoch 23/50\n",
            "664/665 [============================>.] - ETA: 0s - loss: 1.8680 - accuracy: 0.6108\n",
            "Epoch 23: loss improved from 1.99340 to 1.86817, saving model to next_words.h5\n",
            "665/665 [==============================] - 7s 10ms/step - loss: 1.8682 - accuracy: 0.6107\n",
            "Epoch 24/50\n",
            "665/665 [==============================] - ETA: 0s - loss: 1.7452 - accuracy: 0.6360\n",
            "Epoch 24: loss improved from 1.86817 to 1.74517, saving model to next_words.h5\n",
            "665/665 [==============================] - 6s 9ms/step - loss: 1.7452 - accuracy: 0.6360\n",
            "Epoch 25/50\n",
            "661/665 [============================>.] - ETA: 0s - loss: 1.6370 - accuracy: 0.6564\n",
            "Epoch 25: loss improved from 1.74517 to 1.63678, saving model to next_words.h5\n",
            "665/665 [==============================] - 7s 10ms/step - loss: 1.6368 - accuracy: 0.6565\n",
            "Epoch 26/50\n",
            "665/665 [==============================] - ETA: 0s - loss: 1.5302 - accuracy: 0.6797\n",
            "Epoch 26: loss improved from 1.63678 to 1.53016, saving model to next_words.h5\n",
            "665/665 [==============================] - 6s 9ms/step - loss: 1.5302 - accuracy: 0.6797\n",
            "Epoch 27/50\n",
            "661/665 [============================>.] - ETA: 0s - loss: 1.4367 - accuracy: 0.6972\n",
            "Epoch 27: loss improved from 1.53016 to 1.43691, saving model to next_words.h5\n",
            "665/665 [==============================] - 7s 10ms/step - loss: 1.4369 - accuracy: 0.6972\n",
            "Epoch 28/50\n",
            "661/665 [============================>.] - ETA: 0s - loss: 1.3436 - accuracy: 0.7179\n",
            "Epoch 28: loss improved from 1.43691 to 1.34369, saving model to next_words.h5\n",
            "665/665 [==============================] - 6s 9ms/step - loss: 1.3437 - accuracy: 0.7179\n",
            "Epoch 29/50\n",
            "664/665 [============================>.] - ETA: 0s - loss: 1.2595 - accuracy: 0.7356\n",
            "Epoch 29: loss improved from 1.34369 to 1.25928, saving model to next_words.h5\n",
            "665/665 [==============================] - 6s 10ms/step - loss: 1.2593 - accuracy: 0.7356\n",
            "Epoch 30/50\n",
            "665/665 [==============================] - ETA: 0s - loss: 1.1846 - accuracy: 0.7499\n",
            "Epoch 30: loss improved from 1.25928 to 1.18457, saving model to next_words.h5\n",
            "665/665 [==============================] - 6s 9ms/step - loss: 1.1846 - accuracy: 0.7499\n",
            "Epoch 31/50\n",
            "665/665 [==============================] - ETA: 0s - loss: 1.1128 - accuracy: 0.7630\n",
            "Epoch 31: loss improved from 1.18457 to 1.11284, saving model to next_words.h5\n",
            "665/665 [==============================] - 6s 10ms/step - loss: 1.1128 - accuracy: 0.7630\n",
            "Epoch 32/50\n",
            "660/665 [============================>.] - ETA: 0s - loss: 1.0445 - accuracy: 0.7768\n",
            "Epoch 32: loss improved from 1.11284 to 1.04523, saving model to next_words.h5\n",
            "665/665 [==============================] - 6s 9ms/step - loss: 1.0452 - accuracy: 0.7767\n",
            "Epoch 33/50\n",
            "664/665 [============================>.] - ETA: 0s - loss: 0.9787 - accuracy: 0.7902\n",
            "Epoch 33: loss improved from 1.04523 to 0.97909, saving model to next_words.h5\n",
            "665/665 [==============================] - 6s 9ms/step - loss: 0.9791 - accuracy: 0.7900\n",
            "Epoch 34/50\n",
            "660/665 [============================>.] - ETA: 0s - loss: 0.9242 - accuracy: 0.8010\n",
            "Epoch 34: loss improved from 0.97909 to 0.92421, saving model to next_words.h5\n",
            "665/665 [==============================] - 6s 9ms/step - loss: 0.9242 - accuracy: 0.8009\n",
            "Epoch 35/50\n",
            "663/665 [============================>.] - ETA: 0s - loss: 0.8631 - accuracy: 0.8150\n",
            "Epoch 35: loss improved from 0.92421 to 0.86290, saving model to next_words.h5\n",
            "665/665 [==============================] - 6s 10ms/step - loss: 0.8629 - accuracy: 0.8150\n",
            "Epoch 36/50\n",
            "665/665 [==============================] - ETA: 0s - loss: 0.8136 - accuracy: 0.8231\n",
            "Epoch 36: loss improved from 0.86290 to 0.81357, saving model to next_words.h5\n",
            "665/665 [==============================] - 6s 10ms/step - loss: 0.8136 - accuracy: 0.8231\n",
            "Epoch 37/50\n",
            "664/665 [============================>.] - ETA: 0s - loss: 0.7672 - accuracy: 0.8347\n",
            "Epoch 37: loss improved from 0.81357 to 0.76751, saving model to next_words.h5\n",
            "665/665 [==============================] - 6s 9ms/step - loss: 0.7675 - accuracy: 0.8345\n",
            "Epoch 38/50\n",
            "662/665 [============================>.] - ETA: 0s - loss: 0.7212 - accuracy: 0.8429\n",
            "Epoch 38: loss improved from 0.76751 to 0.72114, saving model to next_words.h5\n",
            "665/665 [==============================] - 6s 10ms/step - loss: 0.7211 - accuracy: 0.8428\n",
            "Epoch 39/50\n",
            "665/665 [==============================] - ETA: 0s - loss: 0.6837 - accuracy: 0.8507\n",
            "Epoch 39: loss improved from 0.72114 to 0.68370, saving model to next_words.h5\n",
            "665/665 [==============================] - 6s 9ms/step - loss: 0.6837 - accuracy: 0.8507\n",
            "Epoch 40/50\n",
            "661/665 [============================>.] - ETA: 0s - loss: 0.6433 - accuracy: 0.8596\n",
            "Epoch 40: loss improved from 0.68370 to 0.64343, saving model to next_words.h5\n",
            "665/665 [==============================] - 6s 10ms/step - loss: 0.6434 - accuracy: 0.8597\n",
            "Epoch 41/50\n",
            "662/665 [============================>.] - ETA: 0s - loss: 0.6057 - accuracy: 0.8658\n",
            "Epoch 41: loss improved from 0.64343 to 0.60580, saving model to next_words.h5\n",
            "665/665 [==============================] - 6s 9ms/step - loss: 0.6058 - accuracy: 0.8658\n",
            "Epoch 42/50\n",
            "665/665 [==============================] - ETA: 0s - loss: 0.5749 - accuracy: 0.8719\n",
            "Epoch 42: loss improved from 0.60580 to 0.57488, saving model to next_words.h5\n",
            "665/665 [==============================] - 7s 10ms/step - loss: 0.5749 - accuracy: 0.8719\n",
            "Epoch 43/50\n",
            "664/665 [============================>.] - ETA: 0s - loss: 0.5439 - accuracy: 0.8765\n",
            "Epoch 43: loss improved from 0.57488 to 0.54390, saving model to next_words.h5\n",
            "665/665 [==============================] - 6s 9ms/step - loss: 0.5439 - accuracy: 0.8765\n",
            "Epoch 44/50\n",
            "660/665 [============================>.] - ETA: 0s - loss: 0.5152 - accuracy: 0.8848\n",
            "Epoch 44: loss improved from 0.54390 to 0.51608, saving model to next_words.h5\n",
            "665/665 [==============================] - 6s 10ms/step - loss: 0.5161 - accuracy: 0.8844\n",
            "Epoch 45/50\n",
            "664/665 [============================>.] - ETA: 0s - loss: 0.4945 - accuracy: 0.8871\n",
            "Epoch 45: loss improved from 0.51608 to 0.49463, saving model to next_words.h5\n",
            "665/665 [==============================] - 6s 9ms/step - loss: 0.4946 - accuracy: 0.8871\n",
            "Epoch 46/50\n",
            "665/665 [==============================] - ETA: 0s - loss: 0.4684 - accuracy: 0.8932\n",
            "Epoch 46: loss improved from 0.49463 to 0.46836, saving model to next_words.h5\n",
            "665/665 [==============================] - 7s 10ms/step - loss: 0.4684 - accuracy: 0.8932\n",
            "Epoch 47/50\n",
            "665/665 [==============================] - ETA: 0s - loss: 0.4486 - accuracy: 0.8964\n",
            "Epoch 47: loss improved from 0.46836 to 0.44861, saving model to next_words.h5\n",
            "665/665 [==============================] - 6s 9ms/step - loss: 0.4486 - accuracy: 0.8964\n",
            "Epoch 48/50\n",
            "665/665 [==============================] - ETA: 0s - loss: 0.4285 - accuracy: 0.9003\n",
            "Epoch 48: loss improved from 0.44861 to 0.42852, saving model to next_words.h5\n",
            "665/665 [==============================] - 7s 10ms/step - loss: 0.4285 - accuracy: 0.9003\n",
            "Epoch 49/50\n",
            "663/665 [============================>.] - ETA: 0s - loss: 0.4109 - accuracy: 0.9028\n",
            "Epoch 49: loss improved from 0.42852 to 0.41082, saving model to next_words.h5\n",
            "665/665 [==============================] - 6s 9ms/step - loss: 0.4108 - accuracy: 0.9028\n",
            "Epoch 50/50\n",
            "660/665 [============================>.] - ETA: 0s - loss: 0.3925 - accuracy: 0.9069\n",
            "Epoch 50: loss improved from 0.41082 to 0.39273, saving model to next_words.h5\n",
            "665/665 [==============================] - 7s 10ms/step - loss: 0.3927 - accuracy: 0.9069\n"
          ]
        },
        {
          "output_type": "execute_result",
          "data": {
            "text/plain": [
              "<keras.src.callbacks.History at 0x7d9ca8896ec0>"
            ]
          },
          "metadata": {},
          "execution_count": 7
        }
      ]
    },
    {
      "cell_type": "code",
      "source": [
        "from tensorflow.keras.preprocessing.sequence import pad_sequences\n",
        "def Predict_Next_Words(model, tokenizer, text, top_n=5):\n",
        "    # Check if the text contains numeric values\n",
        "    is_numeric = all(word.isnumeric() for word in text)\n",
        "\n",
        "    if is_numeric:\n",
        "        # Input is a sequence of indices\n",
        "        text_sequence = [int(word) for word in text]\n",
        "    else:\n",
        "        # Input is a sequence of words\n",
        "        context_words = text + [''] * (2 - len(text))\n",
        "        text_sequence = tokenizer.texts_to_sequences([context_words])[0]\n",
        "\n",
        "    sequence = pad_sequences([text_sequence], maxlen=3, padding='pre', truncating='post')[0]\n",
        "    sequence = np.array(sequence)\n",
        "\n",
        "    preds = model.predict(sequence.reshape(1, -1))\n",
        "    top_preds_indices = np.argsort(preds[0])[::-1][:top_n]\n",
        "\n",
        "    predicted_words = []\n",
        "\n",
        "    for index in top_preds_indices:\n",
        "        for key, value in tokenizer.word_index.items():\n",
        "            if value == index:\n",
        "                predicted_word = key\n",
        "                predicted_words.append(predicted_word)\n",
        "                break\n",
        "\n",
        "    print(predicted_words)\n",
        "    return predicted_words\n"
      ],
      "metadata": {
        "id": "IjOZltP1EFiv"
      },
      "execution_count": 8,
      "outputs": []
    },
    {
      "cell_type": "code",
      "source": [
        "while True:\n",
        "    text = input(\"Enter your line: \")\n",
        "\n",
        "    if text == \"0\":\n",
        "        print(\"Execution completed.....\")\n",
        "        break\n",
        "\n",
        "    else:\n",
        "        try:\n",
        "            text = text.split(\" \")\n",
        "            text = text[-3:]\n",
        "            print(text)\n",
        "\n",
        "            Predict_Next_Words(model, tokenizer, text, top_n=5)\n",
        "\n",
        "        except Exception as e:\n",
        "            print(\"Error occurred: \", e)\n",
        "            continue\n",
        "\n"
      ],
      "metadata": {
        "colab": {
          "base_uri": "https://localhost:8080/"
        },
        "id": "jRUkuJSqEToT",
        "outputId": "ef824f18-adc6-41f5-fecd-d6d69b3ffe6f"
      },
      "execution_count": 9,
      "outputs": [
        {
          "output_type": "stream",
          "name": "stdout",
          "text": [
            "Enter your line: एसियाली\n",
            "['एसियाली']\n",
            "1/1 [==============================] - 1s 686ms/step\n",
            "['सबै', 'पुलिस', 'खेलाडी', 'भने', 'वषर्ीय']\n",
            "Enter your line: कतारी क्लब अल साद\n",
            "['क्लब', 'अल', 'साद']\n",
            "1/1 [==============================] - 0s 25ms/step\n",
            "['एसियाको', 'कपको', 'त्यसैले', 'नेपाली', 'शैलीमा']\n",
            "Enter your line: नेपाल सुपर लिग फुटबल\n",
            "['सुपर', 'लिग', 'फुटबल']\n",
            "1/1 [==============================] - 0s 18ms/step\n",
            "['तेस्रो', 'पनि', 'पेनाल्टी', 'राष्ट्रिय', 'उनले']\n",
            "Enter your line: पहिलो हाफमा चितवनका विमल\n",
            "['हाफमा', 'चितवनका', 'विमल']\n",
            "1/1 [==============================] - 0s 17ms/step\n",
            "['प्रशिक्षक', 'र', 'लागि', 'राम्रो', 'केही']\n",
            "Enter your line: तिमिलाइ   कस्तो \n",
            "['', 'कस्तो', '']\n",
            "1/1 [==============================] - 0s 19ms/step\n",
            "['सबै', 'लामाले', 'फाइनलमा', 'प्रशिक्षक', 'राम्रो']\n",
            "Enter your line: 0\n",
            "Execution completed.....\n"
          ]
        }
      ]
    },
    {
      "cell_type": "code",
      "source": [],
      "metadata": {
        "id": "ohkSMlglEXjs"
      },
      "execution_count": 9,
      "outputs": []
    }
  ]
}